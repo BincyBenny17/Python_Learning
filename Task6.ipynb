{
 "cells": [
  {
   "cell_type": "markdown",
   "metadata": {},
   "source": [
    "Exercise 1: Hierarchical Inheritance\n",
    "• Objective: Implement a hierarchical inheritance structure where\n",
    "a parent class Vehicle is inherited by two child classes Car and\n",
    "Bike. Both child classes should have a method vehicle_type that\n",
    "returns \"Car\" for Car objects and \"Bike\" for Bike objects.\n",
    "Tasks:\n",
    "• Define the Vehicle class with a method move() that returns\n",
    "\"Vehicle is moving\".\n",
    "• Define the Car and Bike classes inherited from Vehicle, each with\n",
    "a vehicle_type() method."
   ]
  },
  {
   "cell_type": "code",
   "execution_count": 2,
   "metadata": {},
   "outputs": [],
   "source": [
    "class Vehicle:\n",
    "    def move(self):\n",
    "        return \"Vehicle is moving\"\n",
    "    \n",
    "class Car(Vehicle):\n",
    "    def move(self):\n",
    "        return \"Car is moving\"\n",
    "    \n",
    "class Bike(Vehicle):\n",
    "    def move(self):\n",
    "        return \"Bike is moving\""
   ]
  },
  {
   "cell_type": "code",
   "execution_count": 3,
   "metadata": {},
   "outputs": [
    {
     "name": "stdout",
     "output_type": "stream",
     "text": [
      "Car is moving\n"
     ]
    }
   ],
   "source": [
    "car=Car()\n",
    "print(car.move())"
   ]
  },
  {
   "cell_type": "code",
   "execution_count": 4,
   "metadata": {},
   "outputs": [
    {
     "name": "stdout",
     "output_type": "stream",
     "text": [
      "Bike is moving\n"
     ]
    }
   ],
   "source": [
    "bike=Bike()\n",
    "print(bike.move())"
   ]
  },
  {
   "cell_type": "markdown",
   "metadata": {},
   "source": [
    "Exercise 2: Implementing Polymorphism\n",
    " • Objective: Demonstrate polymorphism through a function \n",
    "describe_animal that takes an Animal object and calls its \n",
    "make_sound method.\n",
    " Tasks:\n",
    " • Define an Animal class with a make_sound method.\n",
    " • Create two subclasses of Animal, Dog and Cat, each overriding \n",
    "the make_sound method.\n",
    " • Write a function describe_animal(animal) that accepts an animal \n",
    "instance and prints its sound"
   ]
  },
  {
   "cell_type": "code",
   "execution_count": 7,
   "metadata": {},
   "outputs": [
    {
     "name": "stdout",
     "output_type": "stream",
     "text": [
      "Wooff\n",
      "Meow\n"
     ]
    }
   ],
   "source": [
    "class Animal:\n",
    " def sound(self):\n",
    "  return \"Some animal can sound\"\n",
    "class Dog(Animal):\n",
    " def sound(self):\n",
    "  return \"Wooff\"\n",
    "class Cat(Animal):\n",
    " def sound(self):\n",
    "  return \"Meow\"\n",
    "# Polymorphism in action\n",
    "animals = [Dog(), Cat()]\n",
    "for animal in animals:\n",
    " print (animal. sound())"
   ]
  },
  {
   "cell_type": "markdown",
   "metadata": {},
   "source": [
    "Exercise 3: Abstract Class and Interface\n",
    " • Objective: Create an abstract class Shape with an abstract \n",
    "method area. Implement this abstract class in two concrete \n",
    "classes, Circle and Rectangle.\n",
    " Tasks:\n",
    "Use the ‘abc’ module to define Shape as an abstract class with an \n",
    "abstract method area.\n",
    " • Add init function in Circle and Rectangle to accept the parameters \n",
    "to calculate the area.\n",
    " • Implement the area method in Circle and Rectangle classes that \n",
    "calculates the area of the shapes"
   ]
  },
  {
   "cell_type": "code",
   "execution_count": 8,
   "metadata": {},
   "outputs": [],
   "source": [
    "from abc import ABC, abstractmethod\n",
    "\n",
    "class Shape(ABC):\n",
    "    @abstractmethod\n",
    "    def area(self):\n",
    "        pass\n",
    "\n",
    "class Circle(Shape):\n",
    "    def __init__(self, radius):\n",
    "        self.radius = radius\n",
    "    \n",
    "    def area(self):\n",
    "        return 3.14 * self.radius * self.radius\n",
    "\n",
    "class Rectangle(Shape):\n",
    "    def __init__(self, length, width):\n",
    "        self.length = length\n",
    "        self.width = width\n",
    "    \n",
    "    def area(self):\n",
    "        return self.length * self.width"
   ]
  },
  {
   "cell_type": "code",
   "execution_count": 9,
   "metadata": {},
   "outputs": [
    {
     "name": "stdout",
     "output_type": "stream",
     "text": [
      "100\n"
     ]
    }
   ],
   "source": [
    "rectangle = Rectangle(10,10)\n",
    "print(rectangle.area())"
   ]
  },
  {
   "cell_type": "markdown",
   "metadata": {},
   "source": [
    "Objective: Modify the Rectangle class from to include the __str__ \n",
    "special method that returns a string representation of the \n",
    "Rectangle instance, including its length, breadth, and area.\n",
    " Tasks:\n",
    " • Implement the __str__ method in the Rectangle class.\n",
    " • Create an instance of Rectangle and use the print function to \n",
    "display its details"
   ]
  },
  {
   "cell_type": "code",
   "execution_count": 13,
   "metadata": {},
   "outputs": [],
   "source": [
    "class Rectangle:\n",
    "    # Init function\n",
    "    def __init__(self):\n",
    "    \n",
    "        self.length = 1\n",
    "        self.breadth = 1\n",
    "\n",
    "   \n",
    "    def set_breadth(self, breadth):\n",
    "        self.breadth = breadth\n",
    "\n",
    "    def set_length(self, length):\n",
    "        self.length = length\n",
    "\n",
    " \n",
    "    def breadth(self):\n",
    "        return self.breadth\n",
    "\n",
    "    def get_length(self):\n",
    "        return self.length\n",
    "\n",
    "    def get_area(self):\n",
    "        return self.length * self.breadth\n",
    "\n",
    "    # String representation\n",
    "    def __str__(self):\n",
    "        return 'length = {}, breadth = {}'.format(self.length, self .breadth)"
   ]
  },
  {
   "cell_type": "code",
   "execution_count": 18,
   "metadata": {},
   "outputs": [],
   "source": [
    "a = Rectangle()\n",
    "a.set_breadth=3\n",
    "a.set_length=5\n"
   ]
  },
  {
   "cell_type": "code",
   "execution_count": 21,
   "metadata": {},
   "outputs": [
    {
     "data": {
      "text/plain": [
       "1"
      ]
     },
     "execution_count": 21,
     "metadata": {},
     "output_type": "execute_result"
    }
   ],
   "source": [
    "a.get_area()"
   ]
  },
  {
   "cell_type": "code",
   "execution_count": 22,
   "metadata": {},
   "outputs": [
    {
     "name": "stdout",
     "output_type": "stream",
     "text": [
      "length = 1, breadth = 1\n"
     ]
    }
   ],
   "source": [
    "print(a)"
   ]
  },
  {
   "cell_type": "markdown",
   "metadata": {},
   "source": [
    "Extend the MathOperations class to include a static \n",
    "method subtract that takes two arguments and returns their \n",
    "difference.\n",
    " Tasks:\n",
    " • Define the subtract static method in the MathOperations class.\n",
    " • Demonstrate calling the subtract method without creating an \n",
    "instance of MathOperations"
   ]
  },
  {
   "cell_type": "code",
   "execution_count": 23,
   "metadata": {},
   "outputs": [
    {
     "name": "stdout",
     "output_type": "stream",
     "text": [
      "6\n"
     ]
    }
   ],
   "source": [
    "class MathOperations:\n",
    "\n",
    "\n",
    "    @staticmethod\n",
    "    def subtract(x, y):\n",
    "        return x - y\n",
    "\n",
    "# Using static methods without creating an instance\n",
    "\n",
    "print(MathOperations.subtract(10, 4)) "
   ]
  }
 ],
 "metadata": {
  "kernelspec": {
   "display_name": "Python 3",
   "language": "python",
   "name": "python3"
  },
  "language_info": {
   "codemirror_mode": {
    "name": "ipython",
    "version": 3
   },
   "file_extension": ".py",
   "mimetype": "text/x-python",
   "name": "python",
   "nbconvert_exporter": "python",
   "pygments_lexer": "ipython3",
   "version": "3.11.0"
  }
 },
 "nbformat": 4,
 "nbformat_minor": 2
}
