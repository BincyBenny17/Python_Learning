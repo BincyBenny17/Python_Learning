{
 "cells": [
  {
   "cell_type": "code",
   "execution_count": null,
   "metadata": {},
   "outputs": [],
   "source": [
    "Write a Python program that continuously asks the user for numeric input and prints the square of the number. Use exception \n",
    "handling to catch non-numeric inputs, print an error message, and continue asking for input. The program should terminate \n",
    "when the user types \"quit\"."
   ]
  },
  {
   "cell_type": "code",
   "execution_count": 1,
   "metadata": {},
   "outputs": [
    {
     "name": "stdout",
     "output_type": "stream",
     "text": [
      "The square of 3.0 is 9.0\n",
      "The square of 5.0 is 25.0\n",
      "The square of 6.0 is 36.0\n"
     ]
    }
   ],
   "source": [
    "\n",
    "while True:\n",
    "    user_input = input(\"Enter a number (or 'quit' to exit): \")\n",
    "    \n",
    "    if user_input.lower() == \"quit\":\n",
    "        break\n",
    "    \n",
    "    try:\n",
    "        number = float(user_input)\n",
    "        square = number ** 2\n",
    "        print(f\"The square of {number} is {square}\")\n",
    "    except ValueError:\n",
    "        print(\"Invalid input. Please enter a number or 'quit' to exit.\")"
   ]
  },
  {
   "cell_type": "markdown",
   "metadata": {},
   "source": [
    "Exercise 2: File Reading and Processing\n",
    " Given a text file named \"data.txt\" with several lines of text, write a Python script that reads the file and prints the number of \n",
    "lines, words, and characters in the file. Handle possible exceptions like file not found or permission denied."
   ]
  },
  {
   "cell_type": "code",
   "execution_count": 4,
   "metadata": {},
   "outputs": [
    {
     "name": "stdout",
     "output_type": "stream",
     "text": [
      "Number of lines: 1\n",
      "Number of words: 0\n",
      "Number of characters: 0\n"
     ]
    }
   ],
   "source": [
    "try:\n",
    "    # Open the file in read mode\n",
    "    with open(\"data.txt\", \"r\") as file:\n",
    "        # Read the entire content of the file\n",
    "        content = file.read()\n",
    "\n",
    "        # Count the number of lines\n",
    "        lines = content.count(\"\\n\") + 1  \n",
    "\n",
    "        # Count the number of words\n",
    "        words = len(content.split())\n",
    "\n",
    "        # Count the number of characters\n",
    "        characters = len(content)\n",
    "\n",
    "    # Print the results\n",
    "    print(f\"Number of lines: {lines}\")\n",
    "    print(f\"Number of words: {words}\")\n",
    "    print(f\"Number of characters: {characters}\")\n",
    "\n",
    "except FileNotFoundError:\n",
    "    print(\"Error: The file 'data.txt' was not found.\")\n",
    "except PermissionError:\n",
    "    print(\"Error: You do not have permission to read the file 'data.txt'.\")\n",
    "except Exception as e:\n",
    "    print(f\"Error: {e}\")"
   ]
  },
  {
   "cell_type": "markdown",
   "metadata": {},
   "source": [
    "Create a Python program that takes user input in a loop. Each user input should be appended to a file named \"user_data.txt\". If \n",
    "the user enters \"EXIT\", the program should terminate. Ensure that the file is created if it doesn't exist and handle exceptions \n",
    "where necessary."
   ]
  },
  {
   "cell_type": "code",
   "execution_count": 5,
   "metadata": {},
   "outputs": [
    {
     "name": "stdout",
     "output_type": "stream",
     "text": [
      "Program terminated.\n"
     ]
    }
   ],
   "source": [
    "# Open the file in append mode\n",
    "try:\n",
    "    file = open(\"user_data.txt\", \"a\")\n",
    "except FileNotFoundError:\n",
    "    # If the file doesn't exist, create it\n",
    "    file = open(\"user_data.txt\", \"w\")\n",
    "\n",
    "while True:\n",
    "    user_input = input(\"Enter some data (or 'EXIT' to quit): \")\n",
    "    if user_input.upper() == \"EXIT\":\n",
    "        break\n",
    "    else:\n",
    "        try:\n",
    "            file.write(user_input + \"\\n\")\n",
    "        except Exception as e:\n",
    "            print(f\"An error occurred: {e}\")\n",
    "            break\n",
    "\n",
    "file.close()\n",
    "print(\"Program terminated.\")"
   ]
  },
  {
   "cell_type": "markdown",
   "metadata": {},
   "source": [
    "Write a Python script using the os library to create a directory named \"backup\". If the directory already exists, rename it to \n",
    "\"backup_old\", and then create a new \"backup\" directory. Catch any possible exceptions during the process"
   ]
  },
  {
   "cell_type": "code",
   "execution_count": 8,
   "metadata": {},
   "outputs": [
    {
     "name": "stdout",
     "output_type": "stream",
     "text": [
      "Error: 'backup_old' directory already exists. Please remove or rename it manually.\n"
     ]
    }
   ],
   "source": [
    "import os\n",
    "\n",
    "try:\n",
    "    # Check if the \"backup\" directory already exists\n",
    "    if os.path.exists(\"backup\"):\n",
    "        # Rename the existing \"backup\" directory to \"backup_old\"\n",
    "        os.rename(\"backup\", \"backup_old\")\n",
    "        print(\"Existing 'backup' directory renamed to 'backup_old'.\")\n",
    "\n",
    "    # Create a new \"backup\" directory\n",
    "    os.mkdir(\"backup\")\n",
    "    print(\"New 'backup' directory created successfully.\")\n",
    "\n",
    "except FileExistsError:\n",
    "    print(\"Error: 'backup_old' directory already exists. Please remove or rename it manually.\")\n",
    "\n",
    "except PermissionError:\n",
    "    print(\"Error: You don't have permission to create or rename directories in this location.\")\n",
    "\n",
    "except Exception as e:\n",
    "    print(f\"An unexpected error occurred: {e}\")"
   ]
  },
  {
   "cell_type": "markdown",
   "metadata": {},
   "source": [
    "Write a Python program to print all files and subdirectories of a given directory (use the current directory as default). Include the \n",
    "full path of each item."
   ]
  },
  {
   "cell_type": "code",
   "execution_count": 18,
   "metadata": {},
   "outputs": [],
   "source": [
    "import os\n",
    "\n",
    "def print_directory_contents(directory=os.getcwd()):\n",
    "  \n",
    "    for root, dirs, files in os.walk(directory):\n",
    "        for file in files:\n",
    "            print(os.path.join(root, file))\n",
    "        for dir in dirs:\n",
    "            print(os.path.join(root, dir))"
   ]
  },
  {
   "cell_type": "code",
   "execution_count": 19,
   "metadata": {},
   "outputs": [
    {
     "name": "stdout",
     "output_type": "stream",
     "text": [
      "F:\\Pythonproject\\Task7\\data.txt\n",
      "F:\\Pythonproject\\Task7\\students.pkl\n",
      "F:\\Pythonproject\\Task7\\user_data.txt\n",
      "F:\\Pythonproject\\Task7\\tEST\n"
     ]
    }
   ],
   "source": [
    "print_directory_contents('F:\\Pythonproject\\Task7')"
   ]
  },
  {
   "cell_type": "markdown",
   "metadata": {},
   "source": [
    "Part A: Serialize a list of dictionaries containing student records (name, id, and \n",
    "grades) to a file named \"students.pkl\".\n",
    " Part B: Deserialize the \"students.pkl\" file and print the contents in a formatted \n",
    "way."
   ]
  },
  {
   "cell_type": "code",
   "execution_count": 11,
   "metadata": {},
   "outputs": [
    {
     "name": "stdout",
     "output_type": "stream",
     "text": [
      "Student records serialized to 'students.pkl'\n"
     ]
    }
   ],
   "source": [
    "import pickle\n",
    "\n",
    "# Sample student records\n",
    "students = [\n",
    "    {\"name\": \"Harry Potter\", \"id\": 1, \"grades\": [95, 92, 78]},\n",
    "    {\"name\": \"Hermione Granger\", \"id\": 2, \"grades\": [99, 88, 95]},\n",
    "    {\"name\": \"Ron Weasley\", \"id\": 3, \"grades\": [90, 81, 66]}\n",
    "]\n",
    "\n",
    "# Open a file for writing in binary mode\n",
    "with open(\"students.pkl\", \"wb\") as file:\n",
    "    # Serialize the list of dictionaries to the file\n",
    "    pickle.dump(students, file)\n",
    "\n",
    "print(\"Student records serialized to 'students.pkl'\")"
   ]
  },
  {
   "cell_type": "code",
   "execution_count": 12,
   "metadata": {},
   "outputs": [
    {
     "name": "stdout",
     "output_type": "stream",
     "text": [
      "Name: Harry Potter\n",
      "ID: 1\n",
      "Grades: 95, 92, 78\n",
      "\n",
      "Name: Hermione Granger\n",
      "ID: 2\n",
      "Grades: 99, 88, 95\n",
      "\n",
      "Name: Ron Weasley\n",
      "ID: 3\n",
      "Grades: 90, 81, 66\n",
      "\n"
     ]
    }
   ],
   "source": [
    "import pickle\n",
    "\n",
    "# Open the file for reading in binary mode\n",
    "with open(\"students.pkl\", \"rb\") as file:\n",
    "    # Deserialize the contents of the file\n",
    "    students = pickle.load(file)\n",
    "\n",
    "# Print the contents in a formatted way\n",
    "for student in students:\n",
    "    print(f\"Name: {student['name']}\")\n",
    "    print(f\"ID: {student['id']}\")\n",
    "    print(f\"Grades: {', '.join(map(str, student['grades']))}\")\n",
    "    print()"
   ]
  },
  {
   "cell_type": "markdown",
   "metadata": {},
   "source": [
    " Exercise 7: Handling Multiple Exception Types\n",
    " Write a Python function that takes two inputs from the user, divides the first \n",
    "input by the second, and prints the result. Use exception handling to catch and \n",
    "handle at least two different types of exceptions. For example, division by zero \n",
    "and value errors for non-numeric inputs."
   ]
  },
  {
   "cell_type": "code",
   "execution_count": 14,
   "metadata": {},
   "outputs": [
    {
     "name": "stdout",
     "output_type": "stream",
     "text": [
      "Error: Invalid input. Please enter numeric values.\n"
     ]
    }
   ],
   "source": [
    "def divide_numbers():\n",
    "    try:\n",
    "        num1 = float(input(\"Enter the first number: \"))\n",
    "        num2 = float(input(\"Enter the second number: \"))\n",
    "        result = num1 / num2\n",
    "        print(f\"The result of {num1} divided by {num2} is: {result}\")\n",
    "    except ZeroDivisionError:\n",
    "        print(\"Error: Division by zero is not allowed.\")\n",
    "    except ValueError:\n",
    "        print(\"Error: Invalid input. Please enter numeric values.\")\n",
    "\n",
    "# Call the function\n",
    "divide_numbers()"
   ]
  },
  {
   "cell_type": "markdown",
   "metadata": {},
   "source": [
    " Create a Python script that deletes all files with a specific extension in a given\n",
    " directory. Use the os library to list files and remove them. The directory and file \n",
    "extension should be taken as input from the user. Include exception handling \n",
    "to manage permissions issues or files that are currently in use."
   ]
  },
  {
   "cell_type": "code",
   "execution_count": 15,
   "metadata": {},
   "outputs": [
    {
     "name": "stdout",
     "output_type": "stream",
     "text": [
      "Deleted file: delete.py\n",
      "Deleted 1 file(s) with extension '.py'.\n"
     ]
    }
   ],
   "source": [
    "import os\n",
    "\n",
    "def delete_files(directory, extension):\n",
    "    try:\n",
    "        # List all files in the directory\n",
    "        files = os.listdir(directory)\n",
    "        \n",
    "        # Filter files with the specified extension\n",
    "        files_to_delete = [f for f in files if f.endswith(extension)]\n",
    "        \n",
    "        # Delete the files\n",
    "        for file in files_to_delete:\n",
    "            file_path = os.path.join(directory, file)\n",
    "            try:\n",
    "                os.remove(file_path)\n",
    "                print(f\"Deleted file: {file}\")\n",
    "            except PermissionError:\n",
    "                print(f\"Error deleting file: {file} (Permission denied)\")\n",
    "            except OSError as e:\n",
    "                print(f\"Error deleting file: {file} ({e})\")\n",
    "        \n",
    "        print(f\"Deleted {len(files_to_delete)} file(s) with extension '{extension}'.\")\n",
    "    \n",
    "    except FileNotFoundError:\n",
    "        print(f\"Error: Directory '{directory}' not found.\")\n",
    "    except OSError as e:\n",
    "        print(f\"Error: {e}\")\n",
    "\n",
    "if __name__ == \"__main__\":\n",
    "    directory = input(\"Enter the directory path: \")\n",
    "    extension = input(\"Enter the file extension to delete (e.g., .txt, .pdf, .jpg): \")\n",
    "    delete_files(directory, extension)"
   ]
  }
 ],
 "metadata": {
  "kernelspec": {
   "display_name": "Python 3",
   "language": "python",
   "name": "python3"
  },
  "language_info": {
   "codemirror_mode": {
    "name": "ipython",
    "version": 3
   },
   "file_extension": ".py",
   "mimetype": "text/x-python",
   "name": "python",
   "nbconvert_exporter": "python",
   "pygments_lexer": "ipython3",
   "version": "3.11.0"
  }
 },
 "nbformat": 4,
 "nbformat_minor": 2
}
