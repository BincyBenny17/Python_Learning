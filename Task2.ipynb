{
 "cells": [
  {
   "cell_type": "markdown",
   "metadata": {},
   "source": [
    "Create Variables:\n",
    " • Create a variable named age and set it to your age.\n",
    " • Create another variable named name and set it to your name."
   ]
  },
  {
   "cell_type": "code",
   "execution_count": 30,
   "metadata": {},
   "outputs": [
    {
     "name": "stdout",
     "output_type": "stream",
     "text": [
      "29 Bincy Mariam\n"
     ]
    }
   ],
   "source": [
    "age = input(\"Enter age: \")\n",
    "name = input(\"Enter name: \")\n",
    "print(age,name)"
   ]
  },
  {
   "cell_type": "markdown",
   "metadata": {},
   "source": [
    "Create a list named fruits that contains the names of three fruits."
   ]
  },
  {
   "cell_type": "code",
   "execution_count": 31,
   "metadata": {},
   "outputs": [
    {
     "name": "stdout",
     "output_type": "stream",
     "text": [
      "['apple', 'grape', 'mango']\n"
     ]
    }
   ],
   "source": [
    "Fruits = [\"apple\", \"grape\", \"mango\"]\n",
    "print (Fruits)"
   ]
  },
  {
   "cell_type": "markdown",
   "metadata": {},
   "source": [
    "Create a tuple named coordinates that represents a point with x and y coordinates \n",
    "(e.g., (4, 5))."
   ]
  },
  {
   "cell_type": "code",
   "execution_count": 5,
   "metadata": {},
   "outputs": [
    {
     "name": "stdout",
     "output_type": "stream",
     "text": [
      "(4, 5)\n"
     ]
    }
   ],
   "source": [
    "p = (4,5)\n",
    "print (p)"
   ]
  },
  {
   "cell_type": "markdown",
   "metadata": {},
   "source": [
    "Create a dictionary named person with keys name and age, and set them to your \n",
    "name and age."
   ]
  },
  {
   "cell_type": "code",
   "execution_count": 14,
   "metadata": {},
   "outputs": [
    {
     "name": "stdout",
     "output_type": "stream",
     "text": [
      "{'Name': 'Bincy', 'Age': 20}\n"
     ]
    }
   ],
   "source": [
    "my_dict = {'Name': 'Bincy' , 'Age':20}\n",
    "print(my_dict)"
   ]
  },
  {
   "cell_type": "markdown",
   "metadata": {},
   "source": [
    "User Input and Display Output:\n",
    " • Write a program that asks the user for their name and their favorite color, then prints \n",
    "a message saying, \"Hello [name], your favorite color is [color].\""
   ]
  },
  {
   "cell_type": "code",
   "execution_count": 7,
   "metadata": {},
   "outputs": [
    {
     "name": "stdout",
     "output_type": "stream",
     "text": [
      "Hello, my name is Bincy, and my faourite color is black\n"
     ]
    }
   ],
   "source": [
    "name= input(\"what is your name?\")\n",
    "color= input(\"what is your favourite color\")\n",
    "print(\"Hello, my name is \" + name + \", and my faourite color is \" + color + \"\")"
   ]
  },
  {
   "cell_type": "markdown",
   "metadata": {},
   "source": [
    "Practicing Typecasting:\n",
    " • Ask the user for a number, then print the square of that number. Note: Remember to \n",
    "convert the input from a string to an appropriate numerical type."
   ]
  },
  {
   "cell_type": "code",
   "execution_count": 9,
   "metadata": {},
   "outputs": [
    {
     "name": "stdout",
     "output_type": "stream",
     "text": [
      "16\n"
     ]
    }
   ],
   "source": [
    "n = 4\n",
    "square = n ** 2\n",
    "print(square)"
   ]
  },
  {
   "cell_type": "markdown",
   "metadata": {},
   "source": [
    "Basic Arithmetic Operations:\n",
    " • Write a program that takes two numbers from the user and prints their sum, \n",
    "difference, product, and quotient."
   ]
  },
  {
   "cell_type": "code",
   "execution_count": 16,
   "metadata": {},
   "outputs": [
    {
     "name": "stdout",
     "output_type": "stream",
     "text": [
      "The sum of 12 and 10 is 22\n"
     ]
    }
   ],
   "source": [
    "num1 = int(input(\"Enter the first number: \"))\n",
    "\n",
    "num2 = int(input(\"Enter the second number: \"))\n",
    "\n",
    "sum = num1 + num2\n",
    "\n",
    "print(\"The sum of\", num1, \"and\", num2, \"is\", sum)"
   ]
  },
  {
   "cell_type": "code",
   "execution_count": 11,
   "metadata": {},
   "outputs": [
    {
     "name": "stdout",
     "output_type": "stream",
     "text": [
      "The difference between 12.0 and 10.0 is 2.0\n"
     ]
    }
   ],
   "source": [
    "difference = num1 - num2\n",
    "\n",
    "print(\"The difference between\", num1, \"and\", num2, \"is\", difference)"
   ]
  },
  {
   "cell_type": "code",
   "execution_count": 12,
   "metadata": {},
   "outputs": [
    {
     "name": "stdout",
     "output_type": "stream",
     "text": [
      "The quotient of 12.0 and 10.0 is 1.2\n"
     ]
    }
   ],
   "source": [
    "quotient = num1 / num2\n",
    "\n",
    "print(\"The quotient of\", num1, \"and\", num2, \"is\", quotient)"
   ]
  },
  {
   "cell_type": "code",
   "execution_count": 13,
   "metadata": {},
   "outputs": [
    {
     "name": "stdout",
     "output_type": "stream",
     "text": [
      "The product of 12.0 and 10.0 is 120.0\n"
     ]
    }
   ],
   "source": [
    "product = num1 * num2\n",
    "\n",
    "print(\"The product of\", num1, \"and\", num2, \"is\", product)"
   ]
  },
  {
   "cell_type": "markdown",
   "metadata": {},
   "source": [
    "Comparing Two Numbers:\n",
    " • Write a program that asks for two numbers and prints out which one is larger or if \n",
    "they are equal.\n"
   ]
  },
  {
   "cell_type": "code",
   "execution_count": 17,
   "metadata": {},
   "outputs": [
    {
     "name": "stdout",
     "output_type": "stream",
     "text": [
      "10.0 is greater than 4.0.\n"
     ]
    }
   ],
   "source": [
    "x = float(input(\"Enter the first number: \")) \n",
    "y = float(input(\"Enter the second number: \")) \n",
    " \n",
    "if x > y: \n",
    "    print(f\"{x} is greater than {y}.\") \n",
    "elif num2 > num1: \n",
    "    print(f\"{x} is greater than {y}.\") \n",
    "else: \n",
    "    print(\"The numbers are equal.\")"
   ]
  },
  {
   "cell_type": "markdown",
   "metadata": {},
   "source": [
    "Building a Simple Calculator:\n",
    " • Create a simple calculator that accepts two numbers and an operator (+, -, *, /) from \n",
    "the user, then performs the operation and prints the result"
   ]
  },
  {
   "cell_type": "code",
   "execution_count": 32,
   "metadata": {},
   "outputs": [
    {
     "name": "stdout",
     "output_type": "stream",
     "text": [
      "Result:  2.0\n"
     ]
    }
   ],
   "source": [
    "num1 = float(input(\"Enter first number: \"))\n",
    "operator = input(\"Enter operator (+, -, *, /): \")\n",
    "num2 = float(input(\"Enter second number: \"))\n",
    "\n",
    "def calculator(num1, num2, operator):\n",
    "    if operator == '+':\n",
    "        return num1 + num2\n",
    "    elif operator == '-':\n",
    "        return num1 - num2\n",
    "    elif operator == '*':\n",
    "        return num1 * num2\n",
    "    elif operator == '/':\n",
    "        return num1 / num2\n",
    "    else:\n",
    "        return \"Invalid operator\"\n",
    "\n",
    "result = calculator(num1, num2, operator)\n",
    "\n",
    "print(\"Result: \", result)"
   ]
  },
  {
   "cell_type": "markdown",
   "metadata": {},
   "source": [
    "Temperature Converter:\n",
    " • Write a program that converts temperature from Fahrenheit to Celsius. \n",
    "(Formula: (Fahrenheit - 32) * 5/9 = Celsius)"
   ]
  },
  {
   "cell_type": "code",
   "execution_count": 19,
   "metadata": {},
   "outputs": [
    {
     "name": "stdout",
     "output_type": "stream",
     "text": [
      "35.0 in Fahrenheit is equal to 1.6666666666666667 in Celsius\n"
     ]
    }
   ],
   "source": [
    "\n",
    "temp = float(input(\"Enter temperature in Fahrenheit: \"))\n",
    "celsius = (temp - 32) * 5/9.\n",
    "print(f\"{temp} in Fahrenheit is equal to {celsius} in Celsius\")"
   ]
  },
  {
   "cell_type": "markdown",
   "metadata": {},
   "source": [
    "Odd or Even:\n",
    " • Ask the user for a number and determine whether the number is odd or even."
   ]
  },
  {
   "cell_type": "code",
   "execution_count": 27,
   "metadata": {},
   "outputs": [
    {
     "name": "stdout",
     "output_type": "stream",
     "text": [
      "The number  is even\n"
     ]
    }
   ],
   "source": [
    "num = int(input(\"Enter any number to test whether it is odd or even: \"))\n",
    "\n",
    "if (num % 2) == 0:\n",
    "\n",
    "              print (\"The number  is even\")\n",
    "\n",
    "else:\n",
    "\n",
    "              print (\"The  number is odd\")"
   ]
  },
  {
   "cell_type": "markdown",
   "metadata": {},
   "source": [
    "Write a program that asks the user for their age and prints whether they are under 18 or not."
   ]
  },
  {
   "cell_type": "code",
   "execution_count": 29,
   "metadata": {},
   "outputs": [
    {
     "name": "stdout",
     "output_type": "stream",
     "text": [
      "You are under 18.\n"
     ]
    }
   ],
   "source": [
    "age = int(input(\"Enter your age: \"))\n",
    "\n",
    "if age < 18:\n",
    "    print(\"You are under 18.\")\n",
    "else:\n",
    "    print(\"You are adult.\")"
   ]
  },
  {
   "cell_type": "code",
   "execution_count": null,
   "metadata": {},
   "outputs": [],
   "source": []
  }
 ],
 "metadata": {
  "kernelspec": {
   "display_name": "Python 3",
   "language": "python",
   "name": "python3"
  },
  "language_info": {
   "codemirror_mode": {
    "name": "ipython",
    "version": 3
   },
   "file_extension": ".py",
   "mimetype": "text/x-python",
   "name": "python",
   "nbconvert_exporter": "python",
   "pygments_lexer": "ipython3",
   "version": "3.11.0"
  }
 },
 "nbformat": 4,
 "nbformat_minor": 2
}
