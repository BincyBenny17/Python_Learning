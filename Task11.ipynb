{
 "cells": [
  {
   "cell_type": "markdown",
   "metadata": {},
   "source": [
    "Create a Series and DataFrame:\n",
    " • Create a Pandas Series from a list of your favorite movies.\n",
    " • Extend this Series into a DataFrame with additional columns for 'Year Released' and \n",
    "'Genre’"
   ]
  },
  {
   "cell_type": "code",
   "execution_count": 1,
   "metadata": {},
   "outputs": [
    {
     "name": "stdout",
     "output_type": "stream",
     "text": [
      "0               Iron Man\n",
      "1    The Incredible Hulk\n",
      "2                   Thor\n",
      "3        Captian America\n",
      "4              Spiderman\n",
      "dtype: object\n"
     ]
    }
   ],
   "source": [
    "import pandas as pd\n",
    "\n",
    "\n",
    "favorite_movies = ['Iron Man', 'The Incredible Hulk', 'Thor', 'Captian America', 'Spiderman']\n",
    "\n",
    "\n",
    "movie_series = pd.Series(favorite_movies)\n",
    "\n",
    "print(movie_series)"
   ]
  },
  {
   "cell_type": "code",
   "execution_count": 2,
   "metadata": {},
   "outputs": [
    {
     "name": "stdout",
     "output_type": "stream",
     "text": [
      "                 Title  Year Released              Genre\n",
      "0             Iron Man           2008  Superhero Fiction\n",
      "1  The Incredible Hulk           2008  Superhero Fiction\n",
      "2                 Thor           2010  Superhero Fiction\n",
      "3      Captian America           2011  Superhero Fiction\n",
      "4            Spiderman           2017  Superhero Fiction\n"
     ]
    }
   ],
   "source": [
    "\n",
    "movie_info = {\n",
    "    'Title': favorite_movies,\n",
    "    'Year Released': [2008, 2008, 2010, 2011, 2017],\n",
    "    'Genre': ['Superhero Fiction', 'Superhero Fiction', 'Superhero Fiction', 'Superhero Fiction', 'Superhero Fiction']\n",
    "}\n",
    "\n",
    "# Create a Pandas DataFrame from the dictionary\n",
    "movie_df = pd.DataFrame(movie_info)\n",
    "\n",
    "print(movie_df)"
   ]
  },
  {
   "cell_type": "markdown",
   "metadata": {},
   "source": [
    "Basic DataFrame Operations:\n",
    " • Using the DataFrame created above, add a new column to indicate if the movie is \n",
    "'Classic' (a movie older than 25 years).\n",
    " • Sort the DataFrame by the year released in descending order."
   ]
  },
  {
   "cell_type": "code",
   "execution_count": 3,
   "metadata": {},
   "outputs": [
    {
     "name": "stdout",
     "output_type": "stream",
     "text": [
      "                 Title  Year Released              Genre Is Classic\n",
      "0             Iron Man           2008  Superhero Fiction         No\n",
      "1  The Incredible Hulk           2008  Superhero Fiction         No\n",
      "2                 Thor           2010  Superhero Fiction         No\n",
      "3      Captian America           2011  Superhero Fiction         No\n",
      "4            Spiderman           2017  Superhero Fiction         No\n"
     ]
    }
   ],
   "source": [
    "movie_df = pd.DataFrame(movie_info)\n",
    "\n",
    "# Add a new column to indicate if the movie is a 'Classic'\n",
    "current_year = 2024\n",
    "movie_df['Is Classic'] = movie_df['Year Released'].apply(lambda x: 'Yes' if current_year - x > 25 else 'No')\n",
    "\n",
    "print(movie_df)"
   ]
  },
  {
   "cell_type": "code",
   "execution_count": 4,
   "metadata": {},
   "outputs": [
    {
     "name": "stdout",
     "output_type": "stream",
     "text": [
      "                 Title  Year Released              Genre\n",
      "4            Spiderman           2017  Superhero Fiction\n",
      "3      Captian America           2011  Superhero Fiction\n",
      "2                 Thor           2010  Superhero Fiction\n",
      "0             Iron Man           2008  Superhero Fiction\n",
      "1  The Incredible Hulk           2008  Superhero Fiction\n"
     ]
    }
   ],
   "source": [
    "movie_df = pd.DataFrame(movie_info)\n",
    "\n",
    "# Sort the DataFrame by 'Year Released' in descending order\n",
    "sorted_df = movie_df.sort_values(by='Year Released', ascending=False)\n",
    "\n",
    "print(sorted_df)"
   ]
  },
  {
   "cell_type": "markdown",
   "metadata": {},
   "source": [
    "3. Data Selection:\n",
    " • From the DataFrame created, select only the movies that are classified as 'Classic’.\n",
    " • Select and print only the 'Genre' and 'Year Released' columns for all movies."
   ]
  },
  {
   "cell_type": "code",
   "execution_count": 5,
   "metadata": {},
   "outputs": [
    {
     "name": "stdout",
     "output_type": "stream",
     "text": [
      "Empty DataFrame\n",
      "Columns: [Title, Year Released, Genre, Is Classic]\n",
      "Index: []\n"
     ]
    }
   ],
   "source": [
    "movie_df = pd.DataFrame(movie_info)\n",
    "\n",
    "# Add a new column to indicate if the movie is a 'Classic'\n",
    "current_year = 2024\n",
    "movie_df['Is Classic'] = movie_df['Year Released'].apply(lambda x: 'Yes' if current_year - x > 25 else 'No')\n",
    "\n",
    "# Select only the 'Classic' movies\n",
    "classic_movies = movie_df[movie_df['Is Classic'] == 'Yes']\n",
    "\n",
    "print(classic_movies)"
   ]
  },
  {
   "cell_type": "markdown",
   "metadata": {},
   "source": [
    "• Data Cleaning with Pandas: Handling Missing Data, Data Transformation\n",
    " 1. Handling Missing Values:\n",
    " • Create a DataFrame with at least 5 rows and 3 columns, intentionally insert missing values \n",
    "into at least two different locations.\n",
    " • Write code to identify rows with missing values.\n",
    " • Replace all missing values with the mean of their respective columns."
   ]
  },
  {
   "cell_type": "code",
   "execution_count": 6,
   "metadata": {},
   "outputs": [
    {
     "name": "stdout",
     "output_type": "stream",
     "text": [
      "       Name   Age           City\n",
      "0  Chandler  25.0       New York\n",
      "1    Rachel   NaN    Los Angeles\n",
      "2    Monica  35.0           None\n",
      "3      Joey  28.0        Chicago\n",
      "4      Ross   NaN  San Francisco\n"
     ]
    }
   ],
   "source": [
    "import pandas as pd\n",
    "\n",
    "# Create a sample DataFrame with 5 rows and 3 columns\n",
    "data = {\n",
    "    'Name': ['Chandler', 'Rachel', 'Monica', 'Joey', 'Ross'],\n",
    "    'Age': [25, None, 35, 28, None],\n",
    "    'City': ['New York', 'Los Angeles', None, 'Chicago', 'San Francisco']\n",
    "}\n",
    "\n",
    "df = pd.DataFrame(data)\n",
    "print(df)"
   ]
  },
  {
   "cell_type": "code",
   "execution_count": 7,
   "metadata": {},
   "outputs": [
    {
     "name": "stdout",
     "output_type": "stream",
     "text": [
      "Rows with missing values:\n",
      "     Name   Age           City\n",
      "1  Rachel   NaN    Los Angeles\n",
      "2  Monica  35.0           None\n",
      "4    Ross   NaN  San Francisco\n"
     ]
    }
   ],
   "source": [
    "import pandas as pd\n",
    "\n",
    "# Create a sample DataFrame with missing values\n",
    "data = {\n",
    "    'Name': ['Chandler', 'Rachel', 'Monica', 'Joey', 'Ross'],\n",
    "    'Age': [25, None, 35, 28, None],\n",
    "    'City': ['New York', 'Los Angeles', None, 'Chicago', 'San Francisco']\n",
    "}\n",
    "\n",
    "df = pd.DataFrame(data)\n",
    "\n",
    "# Identify rows with missing values\n",
    "rows_with_missing = df[df.isnull().any(axis=1)]\n",
    "\n",
    "print(\"Rows with missing values:\")\n",
    "print(rows_with_missing)"
   ]
  },
  {
   "cell_type": "code",
   "execution_count": 8,
   "metadata": {},
   "outputs": [
    {
     "name": "stdout",
     "output_type": "stream",
     "text": [
      "       Name        Age           City\n",
      "0  Chandler  25.000000       New York\n",
      "1    Rachel  29.333333    Los Angeles\n",
      "2    Monica  35.000000        Chicago\n",
      "3      Joey  28.000000        Chicago\n",
      "4      Ross  29.333333  San Francisco\n"
     ]
    }
   ],
   "source": [
    "import pandas as pd\n",
    "\n",
    "# Create a sample DataFrame with missing values\n",
    "data = {\n",
    "    'Name': ['Chandler', 'Rachel', 'Monica', 'Joey', 'Ross'],\n",
    "    'Age': [25, None, 35, 28, None],\n",
    "    'City': ['New York', 'Los Angeles', None, 'Chicago', 'San Francisco']\n",
    "}\n",
    "\n",
    "df = pd.DataFrame(data)\n",
    "\n",
    "# Replace missing values with the mean of the column\n",
    "df['Age'] = df['Age'].fillna(df['Age'].mean())\n",
    "df['City'] = df['City'].fillna(df['City'].mode().iloc[0])\n",
    "\n",
    "print(df)"
   ]
  },
  {
   "cell_type": "markdown",
   "metadata": {},
   "source": [
    "Data Transformation Exercises:\n",
    " • Given a DataFrame with a column of employee names, transform all the names to \n",
    "uppercase.\n",
    " • Assume a DataFrame column 'Salary' is mistakenly entered as string data type with a dollar \n",
    "sign (e.g., \"$40000\"). Remove the dollar sign and convert this column to a numeric data \n",
    "type"
   ]
  },
  {
   "cell_type": "code",
   "execution_count": 9,
   "metadata": {},
   "outputs": [
    {
     "name": "stdout",
     "output_type": "stream",
     "text": [
      "  Employee Name\n",
      "0      CHANDLER\n",
      "1        RACHEL\n",
      "2        MONICA\n",
      "3          JOEY\n",
      "4          ROSS\n"
     ]
    }
   ],
   "source": [
    "import pandas as pd\n",
    "\n",
    "# Create a sample DataFrame with employee names\n",
    "data = {\n",
    "    'Employee Name': ['Chandler', 'Rachel', 'Monica', 'Joey', 'Ross'],\n",
    "}\n",
    "\n",
    "df = pd.DataFrame(data)\n",
    "\n",
    "# Transform the 'Employee Name' column to uppercase\n",
    "df['Employee Name'] = df['Employee Name'].str.upper()\n",
    "\n",
    "print(df)"
   ]
  },
  {
   "cell_type": "code",
   "execution_count": 11,
   "metadata": {},
   "outputs": [
    {
     "name": "stdout",
     "output_type": "stream",
     "text": [
      "       Name   Salary\n",
      "0  Chandler  40000.0\n",
      "1    Rachel  50000.0\n",
      "2    Monica  35000.0\n",
      "3      Joey  60000.0\n",
      "4      Ross  45000.0\n"
     ]
    },
    {
     "name": "stderr",
     "output_type": "stream",
     "text": [
      "C:\\Users\\HP\\AppData\\Local\\Temp\\ipykernel_18440\\2858168147.py:12: FutureWarning: The default value of regex will change from True to False in a future version. In addition, single character regular expressions will *not* be treated as literal strings when regex=True.\n",
      "  df['Salary'] = df['Salary'].str.replace('$', '').astype(float)\n"
     ]
    }
   ],
   "source": [
    "import pandas as pd\n",
    "\n",
    "# Create a sample DataFrame with 'Salary' column as string\n",
    "data = {\n",
    "    'Name': ['Chandler', 'Rachel', 'Monica', 'Joey', 'Ross'],\n",
    "    'Salary': ['$40000', '$50000', '$35000', '$60000', '$45000']\n",
    "}\n",
    "\n",
    "df = pd.DataFrame(data)\n",
    "\n",
    "# Remove the dollar sign and convert 'Salary' to numeric\n",
    "df['Salary'] = df['Salary'].str.replace('$', '').astype(float)\n",
    "print(df)\n",
    "\n",
    "\n"
   ]
  },
  {
   "cell_type": "markdown",
   "metadata": {},
   "source": [
    ". Advanced Selection and Filtering:\n",
    " • Using any sample DataFrame, write code to select rows based on multiple conditions. For \n",
    "example, find all rows where 'Year Released' is after 2000 but the genre is not 'Action’.\n",
    " • Use isin method to filter rows where the genre is either 'Comedy' or 'Horror’"
   ]
  },
  {
   "cell_type": "code",
   "execution_count": 12,
   "metadata": {},
   "outputs": [
    {
     "name": "stdout",
     "output_type": "stream",
     "text": [
      "       Title  Year Released   Genre\n",
      "3  Inception           2010  Sci-Fi\n"
     ]
    }
   ],
   "source": [
    "import pandas as pd\n",
    "\n",
    "# Create a sample DataFrame\n",
    "movie_info = {\n",
    "    'Title': ['The Shawshank Redemption', 'The Godfather', 'The Dark Knight', 'Inception', 'Forrest Gump', 'Avengers: Endgame'],\n",
    "    'Year Released': [1994, 1972, 2008, 2010, 1994, 2019],\n",
    "    'Genre': ['Drama', 'Crime', 'Action', 'Sci-Fi', 'Drama', 'Action']\n",
    "}\n",
    "movie_df = pd.DataFrame(movie_info)\n",
    "\n",
    "# Select rows where 'Year Released' is after 2000 and 'Genre' is not 'Action'\n",
    "selected_rows = movie_df[(movie_df['Year Released'] > 2000) & (~movie_df['Genre'].isin(['Action']))]\n",
    "\n",
    "print(selected_rows)"
   ]
  },
  {
   "cell_type": "code",
   "execution_count": 13,
   "metadata": {},
   "outputs": [
    {
     "name": "stdout",
     "output_type": "stream",
     "text": [
      "          Title  Year Released   Genre\n",
      "6  The Exorcist           1973  Horror\n",
      "7  Ghostbusters           1984  Comedy\n"
     ]
    }
   ],
   "source": [
    "import pandas as pd\n",
    "\n",
    "# Create a sample DataFrame\n",
    "movie_info = {\n",
    "    'Title': ['The Shawshank Redemption', 'The Godfather', 'The Dark Knight', 'Inception', 'Forrest Gump', 'Avengers: Endgame', 'The Exorcist', 'Ghostbusters'],\n",
    "    'Year Released': [1994, 1972, 2008, 2010, 1994, 2019, 1973, 1984],\n",
    "    'Genre': ['Drama', 'Crime', 'Action', 'Sci-Fi', 'Drama', 'Action', 'Horror', 'Comedy']\n",
    "}\n",
    "movie_df = pd.DataFrame(movie_info)\n",
    "\n",
    "# Filter rows where the 'Genre' is either 'Comedy' or 'Horror'\n",
    "filtered_df = movie_df[movie_df['Genre'].isin(['Comedy', 'Horror'])]\n",
    "\n",
    "print(filtered_df)"
   ]
  },
  {
   "cell_type": "markdown",
   "metadata": {},
   "source": [
    "Grouping and Aggregating Data:\n",
    " • Using a DataFrame that includes data for employees, including 'Department' and 'Salary', \n",
    "calculate the average salary per department.\n",
    " • Create a table using group by that shows the total number of movies per genre from a \n",
    "movies DataFrame."
   ]
  },
  {
   "cell_type": "code",
   "execution_count": 16,
   "metadata": {},
   "outputs": [
    {
     "name": "stdout",
     "output_type": "stream",
     "text": [
      "Average Salary per Department:\n",
      "Department\n",
      "Finance    72500.0\n",
      "HR         57500.0\n",
      "IT         65000.0\n",
      "Name: Salary, dtype: float64\n"
     ]
    }
   ],
   "source": [
    "\n",
    "import pandas as pd\n",
    "\n",
    "# Sample data for employees\n",
    "data = {\n",
    "    'EmployeeID': [1, 2, 3, 4, 5],\n",
    "    'Name': ['John', 'Alice', 'Bob', 'Emily', 'Charlie'],\n",
    "    'Department': ['HR', 'Finance', 'HR', 'Finance', 'IT'],\n",
    "    'Salary': [60000, 70000, 55000, 75000, 65000]\n",
    "}\n",
    "\n",
    "# Create a DataFrame\n",
    "df = pd.DataFrame(data)\n",
    "\n",
    "# Calculate average salary per department\n",
    "average_salary_per_department = df.groupby('Department')['Salary'].mean()\n",
    "\n",
    "print(\"Average Salary per Department:\")\n",
    "print(average_salary_per_department)"
   ]
  },
  {
   "cell_type": "code",
   "execution_count": 17,
   "metadata": {},
   "outputs": [
    {
     "name": "stdout",
     "output_type": "stream",
     "text": [
      "Number of Movies per Genre:\n",
      "    Genre  Number of Movies\n",
      "0  Action                 2\n",
      "1  Comedy                 2\n",
      "2   Drama                 1\n"
     ]
    }
   ],
   "source": [
    "import pandas as pd\n",
    "\n",
    "# Assuming 'movies' DataFrame exists with a 'Genre' column\n",
    "# Sample data for demonstration\n",
    "data = {\n",
    "    'MovieID': [1, 2, 3, 4, 5],\n",
    "    'Title':  ['The Shawshank Redemption', 'The Godfather', 'The Dark Knight', 'Inception', 'cid'],\n",
    "    'Genre': ['Action', 'Comedy', 'Action', 'Drama', 'Comedy']\n",
    "}\n",
    "\n",
    "# Create DataFrame\n",
    "movies = pd.DataFrame(data)\n",
    "\n",
    "# Group by genre and count the number of movies per genre\n",
    "movies_per_genre = movies.groupby('Genre').size().reset_index(name='Number of Movies')\n",
    "\n",
    "print(\"Number of Movies per Genre:\")\n",
    "print(movies_per_genre)"
   ]
  }
 ],
 "metadata": {
  "kernelspec": {
   "display_name": "Python 3",
   "language": "python",
   "name": "python3"
  },
  "language_info": {
   "codemirror_mode": {
    "name": "ipython",
    "version": 3
   },
   "file_extension": ".py",
   "mimetype": "text/x-python",
   "name": "python",
   "nbconvert_exporter": "python",
   "pygments_lexer": "ipython3",
   "version": "3.11.0"
  }
 },
 "nbformat": 4,
 "nbformat_minor": 2
}
