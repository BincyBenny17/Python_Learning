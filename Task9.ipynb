{
 "cells": [
  {
   "cell_type": "markdown",
   "metadata": {},
   "source": [
    "Reverse a Linked List: Implement a function to reverse a singly linked \n",
    "list. Define a LinkedList class and a Node class where each node \n",
    "contains an integer value and a reference to the next node. Your \n",
    "function should reverse the linked list in-place and return the new head \n",
    "of the list."
   ]
  },
  {
   "cell_type": "code",
   "execution_count": 13,
   "metadata": {},
   "outputs": [],
   "source": [
    "class Node:\n",
    "    def __init__(self, value):\n",
    "        self.value = value\n",
    "        self.next = None\n",
    "\n",
    "class LinkedList:\n",
    "    def __init__(self):\n",
    "        self.head = None\n",
    "\n",
    "    def append(self, value):\n",
    "        new_node = Node(value)\n",
    "        if self.head is None:\n",
    "            self.head = new_node\n",
    "            return\n",
    "        last_node = self.head\n",
    "        while last_node.next:\n",
    "            last_node = last_node.next\n",
    "        last_node.next = new_node\n",
    "\n",
    "    def reverse(self):\n",
    "        prev_node = None\n",
    "        current_node = self.head\n",
    "        while current_node is not None:\n",
    "            next_node = current_node.next\n",
    "            current_node.next = prev_node\n",
    "            prev_node = current_node\n",
    "            current_node = next_node\n",
    "        self.head = prev_node\n",
    "        return self.head\n"
   ]
  },
  {
   "cell_type": "code",
   "execution_count": 14,
   "metadata": {},
   "outputs": [
    {
     "name": "stdout",
     "output_type": "stream",
     "text": [
      "4\n",
      "3\n",
      "2\n",
      "1\n"
     ]
    }
   ],
   "source": [
    "# Create a new linked list\n",
    "linked_list = LinkedList()\n",
    "linked_list.append(1)\n",
    "linked_list.append(2)\n",
    "linked_list.append(3)\n",
    "linked_list.append(4)\n",
    "\n",
    "# Reverse the linked list\n",
    "new_head = linked_list.reverse()\n",
    "\n",
    "# Print the reversed list\n",
    "current_node = new_head\n",
    "while current_node:\n",
    "    print(current_node.value)\n",
    "    current_node = current_node.next\n",
    "\n"
   ]
  },
  {
   "cell_type": "markdown",
   "metadata": {},
   "source": [
    "Write a Python script that uses threading to create a countdown timer for two different times (e.g., 10 \n",
    "seconds and 20 seconds) that run simultaneously"
   ]
  },
  {
   "cell_type": "code",
   "execution_count": 12,
   "metadata": {},
   "outputs": [
    {
     "name": "stdout",
     "output_type": "stream",
     "text": [
      "10-second timer completed!econd timer: 00:1220-second timer: 00:11\n",
      "20-second timer completed!\n",
      "All timers completed!\n"
     ]
    }
   ],
   "source": [
    "import threading\n",
    "import time\n",
    "\n",
    "def countdown(duration, name):\n",
    "    while duration:\n",
    "        mins, secs = divmod(duration, 60)\n",
    "        timer = '{:02d}:{:02d}'.format(mins, secs)\n",
    "        print(f\"{name} timer: {timer}\", end=\"\\r\")\n",
    "        time.sleep(1)\n",
    "        duration -= 1\n",
    "\n",
    "    print(f\"{name} timer completed!\")\n",
    "\n",
    "# Create and start the threads\n",
    "t1 = threading.Thread(target=countdown, args=(10, \"10-second\"))\n",
    "t2 = threading.Thread(target=countdown, args=(20, \"20-second\"))\n",
    "\n",
    "t1.start()\n",
    "t2.start()\n",
    "\n",
    "# Wait for the threads to finish\n",
    "t1.join()\n",
    "t2.join()\n",
    "\n",
    "print(\"All timers completed!\")"
   ]
  },
  {
   "cell_type": "markdown",
   "metadata": {},
   "source": [
    " Implement a small script where two threads print numbers sequentially from 1 to 10. One thread can only print odd numbers, the other only even numbers, and they should \n",
    "synchronize to ensure the numbers are printed in order.\n"
   ]
  },
  {
   "cell_type": "code",
   "execution_count": null,
   "metadata": {},
   "outputs": [],
   "source": [
    "import threading\n",
    "lock = threading.Lock()\n",
    "owner = \"A\"\n",
    "i = 0\n",
    "\n",
    "def test1():\n",
    "    global owner, i\n",
    "    while i <= 5:\n",
    "        lock.acquire()\n",
    "        if owner == \"A\":\n",
    "            print(owner + \":\" + str(i))\n",
    "            owner = \"B\"\n",
    "            i += 1\n",
    "        lock.release()\n",
    "\n",
    "def test2():\n",
    "    global owner, i\n",
    "    while i <= 5:\n",
    "        lock.acquire()\n",
    "        if owner == \"B\":\n",
    "            print(owner + \":\" + str(i))\n",
    "            owner = \"A\"\n",
    "            i += 1\n",
    "        lock.release()\n",
    "\n",
    "A = threading.Thread(target=test1)\n",
    "B = threading.Thread(target=test2)\n",
    "\n",
    "A.start()\n",
    "B.start()\n",
    "\n",
    "A.join()\n",
    "B.join()"
   ]
  }
 ],
 "metadata": {
  "kernelspec": {
   "display_name": "Python 3",
   "language": "python",
   "name": "python3"
  },
  "language_info": {
   "codemirror_mode": {
    "name": "ipython",
    "version": 3
   },
   "file_extension": ".py",
   "mimetype": "text/x-python",
   "name": "python",
   "nbconvert_exporter": "python",
   "pygments_lexer": "ipython3",
   "version": "3.11.0"
  }
 },
 "nbformat": 4,
 "nbformat_minor": 2
}
