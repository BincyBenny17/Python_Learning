{
 "cells": [
  {
   "cell_type": "markdown",
   "metadata": {},
   "source": [
    "Exercise Set for Creating Arrays \n",
    "\n",
    " Create a NumPy array of size 8 filled with zeros.\n",
    " Generate a NumPy array containing the numbers from 10 to 50.\n",
    " Create a 3x3 matrix with values ranging from 0 to 8."
   ]
  },
  {
   "cell_type": "code",
   "execution_count": 3,
   "metadata": {},
   "outputs": [
    {
     "name": "stdout",
     "output_type": "stream",
     "text": [
      "[0. 0. 0. 0. 0. 0. 0. 0.]\n"
     ]
    }
   ],
   "source": [
    "import numpy as np\n",
    "\n",
    "Zero_arr = np.zeros(8)\n",
    "print(Zero_arr)"
   ]
  },
  {
   "cell_type": "code",
   "execution_count": 2,
   "metadata": {},
   "outputs": [
    {
     "name": "stdout",
     "output_type": "stream",
     "text": [
      "[10 11 12 13 14 15 16 17 18 19 20 21 22 23 24 25 26 27 28 29 30 31 32 33\n",
      " 34 35 36 37 38 39 40 41 42 43 44 45 46 47 48 49 50]\n"
     ]
    }
   ],
   "source": [
    "import numpy as np\n",
    "\n",
    "range_arr = np.arange(10, 51)\n",
    "print(range_arr)"
   ]
  },
  {
   "cell_type": "code",
   "execution_count": 4,
   "metadata": {},
   "outputs": [
    {
     "name": "stdout",
     "output_type": "stream",
     "text": [
      "[[0 1 2]\n",
      " [3 4 5]\n",
      " [6 7 8]]\n"
     ]
    }
   ],
   "source": [
    "import numpy as np\n",
    "\n",
    "matrix = np.arange(0, 9).reshape(3, 3)\n",
    "print(matrix)"
   ]
  },
  {
   "cell_type": "markdown",
   "metadata": {},
   "source": [
    "Exercise Set for Array Indexing and Slicing \n",
    "\n",
    " Extract the third element from the array created in Exercise 2.\n",
    " From the matrix in Exercise 3, retrieve the second row.\n",
    " Create a 4x4 matrix and use slicing to obtain the first two rows and last two columns."
   ]
  },
  {
   "cell_type": "code",
   "execution_count": 5,
   "metadata": {},
   "outputs": [
    {
     "name": "stdout",
     "output_type": "stream",
     "text": [
      "12\n"
     ]
    }
   ],
   "source": [
    "import numpy as np\n",
    "\n",
    "range_arr  = np.arange(10, 51)\n",
    "third_element = range_arr [2]\n",
    "print(third_element)"
   ]
  },
  {
   "cell_type": "code",
   "execution_count": 6,
   "metadata": {},
   "outputs": [
    {
     "name": "stdout",
     "output_type": "stream",
     "text": [
      "[3 4 5]\n"
     ]
    }
   ],
   "source": [
    "import numpy as np\n",
    "\n",
    "matrix = np.arange(0, 9).reshape(3, 3)\n",
    "second_row = matrix[1]\n",
    "\n",
    "print(second_row)"
   ]
  },
  {
   "cell_type": "code",
   "execution_count": 7,
   "metadata": {},
   "outputs": [
    {
     "name": "stdout",
     "output_type": "stream",
     "text": [
      "Original matrix:\n",
      "[[ 0  1  2  3]\n",
      " [ 4  5  6  7]\n",
      " [ 8  9 10 11]\n",
      " [12 13 14 15]]\n"
     ]
    }
   ],
   "source": [
    "import numpy as np\n",
    "\n",
    "# Create a 4x4 matrix\n",
    "matrix = np.arange(16).reshape(4, 4)\n",
    "print(\"Original matrix:\")\n",
    "print(matrix)"
   ]
  },
  {
   "cell_type": "code",
   "execution_count": 8,
   "metadata": {},
   "outputs": [],
   "source": [
    "matrix = [\n",
    "    [1, 2, 3, 4],\n",
    "    [5, 6, 7, 8],\n",
    "    [9, 10, 11, 12],\n",
    "    [13, 14, 15, 16]\n",
    "]"
   ]
  },
  {
   "cell_type": "code",
   "execution_count": 10,
   "metadata": {},
   "outputs": [
    {
     "ename": "TypeError",
     "evalue": "'first_two_rows_last_two_cols' is an invalid keyword argument for print()",
     "output_type": "error",
     "traceback": [
      "\u001b[1;31m---------------------------------------------------------------------------\u001b[0m",
      "\u001b[1;31mTypeError\u001b[0m                                 Traceback (most recent call last)",
      "Cell \u001b[1;32mIn[10], line 1\u001b[0m\n\u001b[1;32m----> 1\u001b[0m \u001b[38;5;28;43mprint\u001b[39;49m\u001b[43m(\u001b[49m\u001b[43mfirst_two_rows_last_two_cols\u001b[49m\u001b[43m \u001b[49m\u001b[38;5;241;43m=\u001b[39;49m\u001b[43m \u001b[49m\u001b[43m[\u001b[49m\u001b[43mrow\u001b[49m\u001b[43m[\u001b[49m\u001b[38;5;241;43m2\u001b[39;49m\u001b[43m:\u001b[49m\u001b[43m]\u001b[49m\u001b[43m \u001b[49m\u001b[38;5;28;43;01mfor\u001b[39;49;00m\u001b[43m \u001b[49m\u001b[43mrow\u001b[49m\u001b[43m \u001b[49m\u001b[38;5;129;43;01min\u001b[39;49;00m\u001b[43m \u001b[49m\u001b[43mmatrix\u001b[49m\u001b[43m[\u001b[49m\u001b[43m:\u001b[49m\u001b[38;5;241;43m2\u001b[39;49m\u001b[43m]\u001b[49m\u001b[43m]\u001b[49m\u001b[43m)\u001b[49m\n",
      "\u001b[1;31mTypeError\u001b[0m: 'first_two_rows_last_two_cols' is an invalid keyword argument for print()"
     ]
    }
   ],
   "source": [
    "print(first_two_rows_last_two_cols = [row[2:] for row in matrix[:2]])"
   ]
  },
  {
   "cell_type": "markdown",
   "metadata": {},
   "source": [
    " Exercise Set for Data Types \n",
    "\n",
    " Create an array with the elements [1.1, 2.2, 3.3] and convert them into integers.\n",
    " Define an array with the elements [\"1\", \"2\", \"3\"] and convert them into floats."
   ]
  },
  {
   "cell_type": "code",
   "execution_count": 11,
   "metadata": {},
   "outputs": [
    {
     "name": "stdout",
     "output_type": "stream",
     "text": [
      "Original array: [1.1 2.2 3.3]\n",
      "Integer array: [1 2 3]\n"
     ]
    }
   ],
   "source": [
    "import numpy as np\n",
    "\n",
    "# Create the array with float values\n",
    "arr = np.array([1.1, 2.2, 3.3])\n",
    "print(\"Original array:\", arr)\n",
    "\n",
    "# Convert the array to integers\n",
    "int_arr = arr.astype(int)\n",
    "print(\"Integer array:\", int_arr)"
   ]
  },
  {
   "cell_type": "code",
   "execution_count": 12,
   "metadata": {},
   "outputs": [
    {
     "name": "stdout",
     "output_type": "stream",
     "text": [
      "Original array: ['1' '2' '3']\n",
      "Float array: [1. 2. 3.]\n"
     ]
    }
   ],
   "source": [
    "import numpy as np\n",
    "\n",
    "# Create the array with string elements\n",
    "arr = np.array([\"1\", \"2\", \"3\"])\n",
    "print(\"Original array:\", arr)\n",
    "\n",
    "# Convert the array to floats\n",
    "float_arr = arr.astype(float)\n",
    "print(\"Float array:\", float_arr)"
   ]
  },
  {
   "cell_type": "markdown",
   "metadata": {},
   "source": [
    " Exercise Set for Copy vs View\n",
    " \n",
    " Create an array of five random numbers. Make a copy of this array and change the first element of the original array. Print both arrays.\n",
    " Create an array of five random numbers. Create a view of this array and change the first element of the view. Print both arrays."
   ]
  },
  {
   "cell_type": "code",
   "execution_count": 14,
   "metadata": {},
   "outputs": [
    {
     "name": "stdout",
     "output_type": "stream",
     "text": [
      "[1 2 3 4 5]\n"
     ]
    }
   ],
   "source": [
    "a = np.array([1, 2, 3,4,5])\n",
    "b = a. copy ()\n",
    "b[0] = 10\n",
    "print(a) "
   ]
  },
  {
   "cell_type": "code",
   "execution_count": 15,
   "metadata": {},
   "outputs": [
    {
     "name": "stdout",
     "output_type": "stream",
     "text": [
      "[10  2  3  4  5]\n"
     ]
    }
   ],
   "source": [
    "print(b)"
   ]
  },
  {
   "cell_type": "code",
   "execution_count": 16,
   "metadata": {},
   "outputs": [
    {
     "name": "stdout",
     "output_type": "stream",
     "text": [
      "[11  2  3  4  5]\n"
     ]
    }
   ],
   "source": [
    "c = a.view()\n",
    "c[0]=11\n",
    "print(a)"
   ]
  },
  {
   "cell_type": "code",
   "execution_count": 17,
   "metadata": {},
   "outputs": [
    {
     "name": "stdout",
     "output_type": "stream",
     "text": [
      "[11  2  3  4  5]\n"
     ]
    }
   ],
   "source": [
    "print(c)"
   ]
  },
  {
   "cell_type": "markdown",
   "metadata": {},
   "source": [
    "Exercise Set for Array Shape and Reshape\n",
    "\n",
    " Create a 2x6 matrix and reshape it into 3x4.\n",
    " Create an array of 12 random numbers and reshape it into a 3D array of dimensions 2x2x3"
   ]
  },
  {
   "cell_type": "code",
   "execution_count": 21,
   "metadata": {},
   "outputs": [
    {
     "name": "stdout",
     "output_type": "stream",
     "text": [
      "(2, 6)\n"
     ]
    }
   ],
   "source": [
    "a = np.array ([[1, 2, 3, 4, 5, 6], [7, 8, 9, 10, 11, 12]])\n",
    "print(a.shape)\n"
   ]
  },
  {
   "cell_type": "code",
   "execution_count": 22,
   "metadata": {},
   "outputs": [
    {
     "name": "stdout",
     "output_type": "stream",
     "text": [
      "[[ 1  2  3  4]\n",
      " [ 5  6  7  8]\n",
      " [ 9 10 11 12]]\n"
     ]
    }
   ],
   "source": [
    "reshaped_a = a. reshape (3, 4)\n",
    "print (reshaped_a)"
   ]
  },
  {
   "cell_type": "markdown",
   "metadata": {},
   "source": [
    " Exercise Set for Array Iterating \n",
    "\n",
    " Create a 3x3 matrix and print each element using a nested loop.\n",
    " Using np.nditer, iterate over the 3D array created in Exercise 12 and print each element."
   ]
  },
  {
   "cell_type": "code",
   "execution_count": 23,
   "metadata": {},
   "outputs": [
    {
     "name": "stdout",
     "output_type": "stream",
     "text": [
      "1\n",
      "2\n",
      "3\n",
      "3\n",
      "4\n",
      "5\n",
      "6\n",
      "7\n",
      "8\n"
     ]
    }
   ],
   "source": [
    "a = np.array([[1, 2, 3], [3, 4, 5], [6, 7, 8]])\n",
    "for row in a:\n",
    "   for item in row:\n",
    "     print (item)\n"
   ]
  },
  {
   "cell_type": "code",
   "execution_count": 25,
   "metadata": {},
   "outputs": [
    {
     "name": "stdout",
     "output_type": "stream",
     "text": [
      "1\n",
      "2\n",
      "31\n",
      "4\n",
      "5\n",
      "611\n"
     ]
    }
   ],
   "source": [
    "\n",
    "c = np.array([[1, 2, 31],  [4, 5, 611]])\n",
    "for x in np.nditer(c):\n",
    "  print (x)"
   ]
  },
  {
   "cell_type": "markdown",
   "metadata": {},
   "source": [
    "Exercise Set for Array Join \n",
    "• Create two 1D arrays of different sizes and concatenate them.\n",
    " • Create two 2D arrays and vertically stack them."
   ]
  },
  {
   "cell_type": "code",
   "execution_count": 26,
   "metadata": {},
   "outputs": [
    {
     "name": "stdout",
     "output_type": "stream",
     "text": [
      "[1 2 3 4 5 6]\n"
     ]
    }
   ],
   "source": [
    "a1=np.array([1, 2, 3])\n",
    "a2=np.array([4, 5, 6])\n",
    "a3=np.concatenate((a1, a2))\n",
    "print(a3)\n"
   ]
  },
  {
   "cell_type": "code",
   "execution_count": 29,
   "metadata": {},
   "outputs": [
    {
     "name": "stdout",
     "output_type": "stream",
     "text": [
      "[[1 4]\n",
      " [2 5]\n",
      " [3 6]]\n"
     ]
    }
   ],
   "source": [
    "a1=np.array([1, 2, 3])\n",
    "a2=np.array([4, 5, 6])\n",
    "a4=np.stack((a1, a2), axis=1)\n",
    "print(a4)"
   ]
  },
  {
   "cell_type": "markdown",
   "metadata": {},
   "source": [
    " Exercise Set for Array Split \n",
    "• Create an array of 10 elements and split it into 3 arrays.\n",
    " • Create a 4x4 matrix and horizontally split it into 2 equal parts"
   ]
  },
  {
   "cell_type": "code",
   "execution_count": 30,
   "metadata": {},
   "outputs": [
    {
     "name": "stdout",
     "output_type": "stream",
     "text": [
      "[array([1, 2, 3, 4]), array([5, 6, 7]), array([ 8,  9, 10])]\n"
     ]
    }
   ],
   "source": [
    "a=np.array([1, 2, 3, 4, 5, 6, 7, 8, 9, 10])\n",
    "new_arrays=np.array_split(a,3)\n",
    "print(new_arrays)"
   ]
  },
  {
   "cell_type": "code",
   "execution_count": 33,
   "metadata": {},
   "outputs": [
    {
     "name": "stdout",
     "output_type": "stream",
     "text": [
      "[array([[ 1,  2],\n",
      "       [ 5,  6],\n",
      "       [ 9, 10],\n",
      "       [13, 14]]), array([[ 3,  4],\n",
      "       [ 7,  8],\n",
      "       [11, 12],\n",
      "       [15, 16]])]\n"
     ]
    }
   ],
   "source": [
    "b=np.array([[1, 2, 3, 4], [5, 6, 7, 8], [9, 10, 11, 12],[13, 14, 15, 16]])\n",
    "hsplit_result=np.hsplit(b,2)\n",
    "print(hsplit_result)"
   ]
  },
  {
   "cell_type": "markdown",
   "metadata": {},
   "source": [
    " Exercise Set for Array Search \n",
    "• Create an array of 10 elements. Use np.whereto find indices of all elements greater than 5.\n",
    " • Create an array and use np.nonzeroto find all non-zero elements."
   ]
  },
  {
   "cell_type": "code",
   "execution_count": 35,
   "metadata": {},
   "outputs": [
    {
     "name": "stdout",
     "output_type": "stream",
     "text": [
      "(array([5, 6, 7, 8, 9], dtype=int64),)\n"
     ]
    }
   ],
   "source": [
    "a=np.array([1, 2, 3, 4, 5, 6, 7, 8, 9, 10])\n",
    "result=np.where(a>5)\n",
    "print(result)"
   ]
  },
  {
   "cell_type": "code",
   "execution_count": 36,
   "metadata": {},
   "outputs": [
    {
     "name": "stdout",
     "output_type": "stream",
     "text": [
      "(array([0, 2, 3, 4, 6, 8, 9], dtype=int64),)\n"
     ]
    }
   ],
   "source": [
    "b=np.array([1, 0, 3, 4, 5, 0, 7, 0, 9, 10])\n",
    "result=np.nonzero(b)\n",
    "print(result)"
   ]
  },
  {
   "cell_type": "markdown",
   "metadata": {},
   "source": [
    "Exercise Set for Array Sort \n",
    "• Create a random array of 10 elements and sort it in ascending order.\n",
    " • Create a 3x3 matrix and sort each row in descending order."
   ]
  },
  {
   "cell_type": "code",
   "execution_count": 37,
   "metadata": {},
   "outputs": [
    {
     "name": "stdout",
     "output_type": "stream",
     "text": [
      "[ 0  0  0  1  3  4  5  7  9 10]\n"
     ]
    }
   ],
   "source": [
    "a=np.array([1, 0, 3, 4, 5, 0, 7, 0, 9, 10])\n",
    "a.sort()\n",
    "print(a)"
   ]
  },
  {
   "cell_type": "code",
   "execution_count": 40,
   "metadata": {},
   "outputs": [
    {
     "name": "stdout",
     "output_type": "stream",
     "text": [
      "[ 1  0  3  4  5  0  7  0  9 10]\n"
     ]
    }
   ],
   "source": [
    "a = np.array([[1, 2, 3], [3, 4, 5], [6, 7, 8]])\n",
    "a.sort( axis=1)\n",
    "print(b)"
   ]
  },
  {
   "cell_type": "markdown",
   "metadata": {},
   "source": [
    "Exercise Set for Array Filter \n",
    "• Create an array of 15 elements from 1 to 15. Use boolean indexing to filter out all odd numbers.\n",
    " • Given an array [1, 2, 3, 4, 5, 6], create a filter array that will return only elements greater than 3."
   ]
  },
  {
   "cell_type": "code",
   "execution_count": 41,
   "metadata": {},
   "outputs": [
    {
     "name": "stdout",
     "output_type": "stream",
     "text": [
      "Original array: [ 1  2  3  4  5  6  7  8  9 10 11 12 13 14 15]\n",
      "\n",
      "Array with only even numbers: [ 2  4  6  8 10 12 14]\n"
     ]
    }
   ],
   "source": [
    "# Create an array of 15 elements from 1 to 15\n",
    "arr = np.arange(1, 16)\n",
    "print(\"Original array:\", arr)\n",
    "\n",
    "# Filter out odd numbers using boolean indexing\n",
    "even_arr = arr[arr % 2 == 0]\n",
    "print(\"\\nArray with only even numbers:\", even_arr)"
   ]
  },
  {
   "cell_type": "code",
   "execution_count": 43,
   "metadata": {},
   "outputs": [
    {
     "name": "stdout",
     "output_type": "stream",
     "text": [
      "Filtered result: [4 5 6]\n"
     ]
    }
   ],
   "source": [
    "# Create the original array\n",
    "arr = np.array([1, 2, 3, 4, 5, 6])\n",
    "\n",
    "# Create the filter array\n",
    "filter_arr = arr > 3\n",
    "\n",
    "# Apply the filter to the original array\n",
    "result = arr[filter_arr]\n",
    "\n",
    "\n",
    "\n",
    "print(\"Filtered result:\", result)"
   ]
  },
  {
   "cell_type": "markdown",
   "metadata": {},
   "source": [
    "Exercise Set for Random \n",
    "• Use NumPy to generate an array of 15 random integers from 1 to 100.\n",
    " • Generate a 3x3 matrix with random floats between 0 to 1."
   ]
  },
  {
   "cell_type": "code",
   "execution_count": 44,
   "metadata": {},
   "outputs": [
    {
     "name": "stdout",
     "output_type": "stream",
     "text": [
      "[ 48 100  21  44  65  72  80   8  87  69  44   1  85  24  90]\n"
     ]
    }
   ],
   "source": [
    "random_array = np.random.randint(1, 101, size=15)\n",
    "print(random_array)"
   ]
  },
  {
   "cell_type": "code",
   "execution_count": 45,
   "metadata": {},
   "outputs": [
    {
     "name": "stdout",
     "output_type": "stream",
     "text": [
      "Random 3x3 matrix:\n",
      "[[0.23864012 0.10814058 0.28423222]\n",
      " [0.18028212 0.26461776 0.52097316]\n",
      " [0.91468051 0.52427209 0.76145067]]\n"
     ]
    }
   ],
   "source": [
    "random_matrix = np.random.rand(3, 3)\n",
    "\n",
    "print(\"Random 3x3 matrix:\")\n",
    "print(random_matrix)"
   ]
  },
  {
   "cell_type": "markdown",
   "metadata": {},
   "source": [
    " Exercise Set for Operations and Broadcasting \n",
    "• Create two arrays of the same shape and perform element-wise addition.\n",
    " • Create an array of shape (4,) and another of shape (4,1). Use broadcasting to add these two arrays.\n"
   ]
  },
  {
   "cell_type": "code",
   "execution_count": 48,
   "metadata": {},
   "outputs": [
    {
     "name": "stdout",
     "output_type": "stream",
     "text": [
      "Element-wise addition:\n",
      "[[11 13 15]\n",
      " [17 19 21]\n",
      " [23 25 27]]\n"
     ]
    }
   ],
   "source": [
    "array1 = np.array([[1, 2, 3], [4, 5, 6], [7, 8, 9]])\n",
    "array2 = np.array([[10, 11, 12], [13, 14, 15], [16, 17, 18]])\n",
    "\n",
    "\n",
    "result = array1 + array2\n",
    "\n",
    "print(\"Element-wise addition:\")\n",
    "print(result)"
   ]
  },
  {
   "cell_type": "code",
   "execution_count": 50,
   "metadata": {},
   "outputs": [
    {
     "name": "stdout",
     "output_type": "stream",
     "text": [
      "Array 1: [1 2 3 4]\n",
      "Result: [[2 3 4 5]\n",
      " [3 4 5 6]\n",
      " [4 5 6 7]\n",
      " [5 6 7 8]]\n"
     ]
    }
   ],
   "source": [
    "arr1 = np.array([1, 2, 3, 4])\n",
    "print(\"Array 1:\", arr1)\n",
    "result = arr1 + arr2\n",
    "print(\"Result:\", result)"
   ]
  }
 ],
 "metadata": {
  "kernelspec": {
   "display_name": "Python 3",
   "language": "python",
   "name": "python3"
  },
  "language_info": {
   "codemirror_mode": {
    "name": "ipython",
    "version": 3
   },
   "file_extension": ".py",
   "mimetype": "text/x-python",
   "name": "python",
   "nbconvert_exporter": "python",
   "pygments_lexer": "ipython3",
   "version": "3.11.0"
  }
 },
 "nbformat": 4,
 "nbformat_minor": 2
}
