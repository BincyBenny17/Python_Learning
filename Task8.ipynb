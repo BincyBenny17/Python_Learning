{
 "cells": [
  {
   "cell_type": "markdown",
   "metadata": {},
   "source": [
    "Task: Write a regular expression to validate an email address. Ensure it matches email \n",
    "addresses with the format username@domain.com.\n",
    " Hint: Use \\w for alphanumeric characters and ensure it includes only one @ symbol followed \n",
    "by a domain."
   ]
  },
  {
   "cell_type": "code",
   "execution_count": 30,
   "metadata": {},
   "outputs": [
    {
     "name": "stdout",
     "output_type": "stream",
     "text": [
      "True\n"
     ]
    }
   ],
   "source": [
    "def validate_email(email):\n",
    "  return bool(re.match(r\"^\\w+@\\w+\\.\\w+$\" ,email))\n",
    "print(validate_email(\"bincy@test.com\"))"
   ]
  },
  {
   "cell_type": "markdown",
   "metadata": {},
   "source": [
    "Write a regular expression to find all the phone numbers in a given text. Assume phone \n",
    "numbers are in the format (123) 456-7890.\n",
    " Hint: Use \\d to match digits and account for spaces and dashes."
   ]
  },
  {
   "cell_type": "code",
   "execution_count": 3,
   "metadata": {},
   "outputs": [],
   "source": [
    "import re\n",
    "\n",
    "def find_phone_numbers(text):\n",
    "    phone_regex = r'\\(\\d{3}\\)\\s\\d{3}-\\d{4}'\n",
    "    phone_numbers = re.findall(phone_regex, text)\n",
    "    return phone_numbers"
   ]
  },
  {
   "cell_type": "code",
   "execution_count": 4,
   "metadata": {},
   "outputs": [
    {
     "name": "stdout",
     "output_type": "stream",
     "text": [
      "['(123) 456-7890']\n"
     ]
    }
   ],
   "source": [
    "text = \"My phone number is (123) 456-7890.\"\n",
    "phone_numbers = find_phone_numbers(text)\n",
    "print(phone_numbers)"
   ]
  },
  {
   "cell_type": "markdown",
   "metadata": {},
   "source": [
    "Task: Write a regex to extract all the HTML tags from a given string, e.g., <div>, </div>.\n",
    " Hint: Remember that HTML tags can include letters, numbers, and even spaces within the \n",
    "brackets."
   ]
  },
  {
   "cell_type": "code",
   "execution_count": 6,
   "metadata": {},
   "outputs": [
    {
     "name": "stdout",
     "output_type": "stream",
     "text": [
      "['<html>', '<head>', '<title>', '</title>', '</head>', '<body>', '<h1>', '</h1>', '<p>', '</p>', '</div>', '<footer>', '</footer>', '</body>', '</html>']\n"
     ]
    }
   ],
   "source": [
    "import re\n",
    "\n",
    "def extract_html_tags(html_text):\n",
    "    tag_regex = r'<\\/?[\\w\\s=\"]+>'\n",
    "    tags = re.findall(tag_regex, html_text)\n",
    "    return tags\n",
    "\n",
    "# Example usage\n",
    "html_content = \"\"\"\n",
    "<html>\n",
    "  <head>\n",
    "    <title>My World</title>\n",
    "  </head>\n",
    "  <body>\n",
    "    <div id=\"main-content\">\n",
    "      <h1>Welcome to my myworld</h1>\n",
    "      <p>Hello guys.</p>\n",
    "    </div>\n",
    "    <footer>\n",
    "\n",
    "    </footer>\n",
    "  </body>\n",
    "</html>\n",
    "\"\"\"\n",
    "\n",
    "extracted_tags = extract_html_tags(html_content)\n",
    "print(extracted_tags)"
   ]
  },
  {
   "cell_type": "markdown",
   "metadata": {},
   "source": [
    " Given two sets, set1 = {1, 3, 5, 7, 9} and set2 = {1, 2, 3, 4, 5}, perform the \n",
    "following operations: union, intersection, difference (both directions), and \n",
    "symmetric difference."
   ]
  },
  {
   "cell_type": "code",
   "execution_count": 7,
   "metadata": {},
   "outputs": [
    {
     "name": "stdout",
     "output_type": "stream",
     "text": [
      "{1, 2, 3, 4, 5, 7, 9}\n"
     ]
    }
   ],
   "source": [
    "#Union\n",
    "set1 = {1, 3, 5, 7, 9}\n",
    "set2 = {1, 2, 3, 4, 5}\n",
    "print(set1.union(set2))"
   ]
  },
  {
   "cell_type": "code",
   "execution_count": 8,
   "metadata": {},
   "outputs": [
    {
     "name": "stdout",
     "output_type": "stream",
     "text": [
      "{1, 3, 5}\n"
     ]
    }
   ],
   "source": [
    "#intersection\n",
    "set1 = {1, 3, 5, 7, 9}\n",
    "set2 = {1, 2, 3, 4, 5}\n",
    "print(set1.intersection(set2))\n",
    "\n"
   ]
  },
  {
   "cell_type": "code",
   "execution_count": 9,
   "metadata": {},
   "outputs": [
    {
     "name": "stdout",
     "output_type": "stream",
     "text": [
      "{9, 7}\n"
     ]
    }
   ],
   "source": [
    "#Difference\n",
    "set1 = {1, 3, 5, 7, 9}\n",
    "set2 = {1, 2, 3, 4, 5}\n",
    "print(set1.difference(set2))"
   ]
  },
  {
   "cell_type": "code",
   "execution_count": 10,
   "metadata": {},
   "outputs": [
    {
     "name": "stdout",
     "output_type": "stream",
     "text": [
      "{2, 4, 7, 9}\n"
     ]
    }
   ],
   "source": [
    "set1 = {1, 3, 5, 7, 9}\n",
    "set2 = {1, 2, 3, 4, 5}\n",
    "print(set1.symmetric_difference(set2))"
   ]
  },
  {
   "cell_type": "markdown",
   "metadata": {},
   "source": [
    "Write a function that takes a string and returns the number of unique \n",
    "alphabetic characters. Ignore case and non-alphabetic characters."
   ]
  },
  {
   "cell_type": "code",
   "execution_count": 24,
   "metadata": {},
   "outputs": [],
   "source": [
    "\n",
    "def count_unique_alphabetic_chars(input_string):\n",
    "    # Remove non-alphabetic characters and convert to lowercase\n",
    "    cleaned_string = ''.join(char.lower() for char in input_string if char.isalpha())\n",
    "    \n",
    "    # Convert the cleaned string to a set to get unique characters\n",
    "    unique_chars = set(cleaned_string)\n",
    "    \n",
    "    # Return the count of unique characters\n",
    "    return len(unique_chars)"
   ]
  },
  {
   "cell_type": "code",
   "execution_count": 25,
   "metadata": {},
   "outputs": [
    {
     "name": "stdout",
     "output_type": "stream",
     "text": [
      "7\n"
     ]
    }
   ],
   "source": [
    "print(count_unique_alphabetic_chars(\"Hello, World!\"))"
   ]
  },
  {
   "cell_type": "markdown",
   "metadata": {},
   "source": [
    "Write a function using a stack to check if a string of parentheses \n",
    "(characters (), []{}, <>) is balanced."
   ]
  },
  {
   "cell_type": "code",
   "execution_count": 20,
   "metadata": {},
   "outputs": [],
   "source": [
    "def is_balanced(input_string):\n",
    "    # Define a dictionary that maps opening brackets to their corresponding closing brackets\n",
    "    bracket_pairs = {\n",
    "        '(': ')',\n",
    "        '[': ']',\n",
    "        '{': '}',\n",
    "        '<': '>'\n",
    "    }\n",
    "    \n",
    "    # Create an empty stack\n",
    "    stack = []\n",
    "    \n",
    "    # Iterate through the input string\n",
    "    for char in input_string:\n",
    "        # If the character is an opening bracket, push it onto the stack\n",
    "        if char in bracket_pairs:\n",
    "            stack.append(char)\n",
    "        # If the character is a closing bracket, check if it matches the top of the stack\n",
    "        elif char in bracket_pairs.values():\n",
    "            if not stack or bracket_pairs[stack.pop()] != char:\n",
    "                return False\n",
    "    \n",
    "    # If the stack is empty, the brackets are balanced\n",
    "    return not stack"
   ]
  },
  {
   "cell_type": "code",
   "execution_count": 23,
   "metadata": {},
   "outputs": [
    {
     "name": "stdout",
     "output_type": "stream",
     "text": [
      "True\n",
      "True\n",
      "True\n",
      "True\n",
      "True\n"
     ]
    }
   ],
   "source": [
    "print(is_balanced(\"()\"))\n",
    "print(is_balanced(\"[]{}\")) \n",
    "print(is_balanced(\"<>\"))\n",
    "print(is_balanced(\"{[]}\"))\n",
    "print(is_balanced(\"\"))"
   ]
  },
  {
   "cell_type": "markdown",
   "metadata": {},
   "source": [
    "Use a stack to reverse a string. Push all characters onto the stack and then \n",
    "pop them off."
   ]
  },
  {
   "cell_type": "code",
   "execution_count": 17,
   "metadata": {},
   "outputs": [],
   "source": [
    "def reverse_string(input_string):\n",
    "    # Create an empty stack\n",
    "    stack = []\n",
    "    \n",
    "    # Push all characters onto the stack\n",
    "    for char in input_string:\n",
    "        stack.append(char)\n",
    "    \n",
    "    # Pop the characters off the stack and build the reversed string\n",
    "    reversed_string = \"\"\n",
    "    while stack:\n",
    "        reversed_string += stack.pop()\n",
    "    \n",
    "    return reversed_string"
   ]
  },
  {
   "cell_type": "code",
   "execution_count": 18,
   "metadata": {},
   "outputs": [
    {
     "name": "stdout",
     "output_type": "stream",
     "text": [
      "!dlroW ,olleH\n"
     ]
    }
   ],
   "source": [
    "print(reverse_string(\"Hello, World!\"))"
   ]
  }
 ],
 "metadata": {
  "kernelspec": {
   "display_name": "Python 3",
   "language": "python",
   "name": "python3"
  },
  "language_info": {
   "codemirror_mode": {
    "name": "ipython",
    "version": 3
   },
   "file_extension": ".py",
   "mimetype": "text/x-python",
   "name": "python",
   "nbconvert_exporter": "python",
   "pygments_lexer": "ipython3",
   "version": "3.11.0"
  }
 },
 "nbformat": 4,
 "nbformat_minor": 2
}
