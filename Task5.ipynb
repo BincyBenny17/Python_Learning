{
 "cells": [
  {
   "cell_type": "markdown",
   "metadata": {},
   "source": [
    "Define a class named Rectangle. It should have attributes length and breadth initialized with __init__, \n",
    "and a method area that returns the area of the rectangle."
   ]
  },
  {
   "cell_type": "code",
   "execution_count": 1,
   "metadata": {},
   "outputs": [],
   "source": [
    "class Rectangle:\n",
    "    def __init__(self, length, breadth):\n",
    "        self.length = length\n",
    "        self.breadth = width\n",
    "\n",
    "    def area(self):\n",
    "        return self.length * self.breadth\n",
    "\n",
    "   "
   ]
  },
  {
   "cell_type": "markdown",
   "metadata": {},
   "source": [
    "Extend the Rectangle class with a new method called perimeter that returns the perimeter of the \n",
    "rectangle."
   ]
  },
  {
   "cell_type": "code",
   "execution_count": 10,
   "metadata": {},
   "outputs": [],
   "source": [
    "def perimeter(self):\n",
    "    return 2*(self.length + self.breadth)"
   ]
  },
  {
   "cell_type": "markdown",
   "metadata": {},
   "source": [
    "Add a method describe that prints a statement describing the rectangle with its length, breadth, area, \n",
    "and perimeter."
   ]
  },
  {
   "cell_type": "code",
   "execution_count": 11,
   "metadata": {},
   "outputs": [
    {
     "name": "stdout",
     "output_type": "stream",
     "text": [
      "To find the area and perimeter of the rectangle\n",
      "Area : 30\n"
     ]
    },
    {
     "ename": "AttributeError",
     "evalue": "'Rectangle' object has no attribute 'perimeter'",
     "output_type": "error",
     "traceback": [
      "\u001b[1;31m---------------------------------------------------------------------------\u001b[0m",
      "\u001b[1;31mAttributeError\u001b[0m                            Traceback (most recent call last)",
      "Cell \u001b[1;32mIn[11], line 6\u001b[0m\n\u001b[0;32m      4\u001b[0m r\u001b[38;5;241m=\u001b[39mRectangle(length,width)\n\u001b[0;32m      5\u001b[0m \u001b[38;5;28mprint\u001b[39m(\u001b[38;5;124m\"\u001b[39m\u001b[38;5;124mArea :\u001b[39m\u001b[38;5;124m\"\u001b[39m ,r\u001b[38;5;241m.\u001b[39marea())\n\u001b[1;32m----> 6\u001b[0m \u001b[38;5;28mprint\u001b[39m(\u001b[38;5;124m\"\u001b[39m\u001b[38;5;124mPerimeter :\u001b[39m\u001b[38;5;124m\"\u001b[39m ,\u001b[43mr\u001b[49m\u001b[38;5;241;43m.\u001b[39;49m\u001b[43mperimeter\u001b[49m())\n",
      "\u001b[1;31mAttributeError\u001b[0m: 'Rectangle' object has no attribute 'perimeter'"
     ]
    }
   ],
   "source": [
    "print(\"To find the area and perimeter of the rectangle\")\n",
    "length=int(input(\"Enter length\"))\n",
    "breadth=int(input(\"Enter width\"))\n",
    "r=Rectangle(length,breadth)\n",
    "print(\"Area :\" ,r.area())\n",
    "print(\"Perimeter :\" ,r.perimeter())"
   ]
  },
  {
   "cell_type": "markdown",
   "metadata": {},
   "source": [
    "Create two Rectangle objects with different lengths and breadths."
   ]
  },
  {
   "cell_type": "code",
   "execution_count": null,
   "metadata": {},
   "outputs": [],
   "source": [
    "def Rectangle(self):\n",
    "    "
   ]
  },
  {
   "cell_type": "markdown",
   "metadata": {},
   "source": [
    "Define a class named BankAccountwith two attributes: accountNumberand balance.\n",
    " • Include an __init__ method that initializes the accountNumber and balance. Set the initial balance to 0 if \n",
    "it's not provided.\n",
    " • Add a method deposit that accepts an amount and adds it to the balance.\n",
    " • Add a method withdraw that accepts an amount and subtracts it from the balance. Ensure the balance \n",
    "cannot go negative.\n",
    " • Add a method get_balancethat prints the current balance."
   ]
  },
  {
   "cell_type": "code",
   "execution_count": 12,
   "metadata": {},
   "outputs": [],
   "source": [
    "class BankAccount:\n",
    "  def __init__(self, account_number, account_holder_name, initial_balance=0.0):\n",
    "    self.__account_number = account_number\n",
    "    self.__account_holder_name = account_holder_name\n",
    "    self.__account_balance = initial_balance\n",
    "  def deposit(self, amount):\n",
    "    if amount > 0:\n",
    "      self.__account_balance += amount\n",
    "      # self.__account_balance = self.__account_balance+amount\n",
    "      print(\"Deposited ₹{}. New balance: ₹{}\".format(amount,\n",
    "                                                     self.__account_balance))\n",
    "    else:\n",
    "      print(\"Invalid deposit amount.\")\n",
    "  def withdraw(self, amount):\n",
    "    if amount > 0 and amount <= self.__account_balance:\n",
    "      self.__account_balance -= amount\n",
    "      # self.__account_balance = self.__account_balance - amount\n",
    "      print(\"Withdrew ₹{}. New balance: ₹{}\".format(amount,\n",
    "                                                    self.__account_balance))\n",
    "    else:\n",
    "      print(\"Invalid withdrawal amount or insufficient balance.\")\n",
    "  def display_balance(self):\n",
    "    print(\"Account balance for {} (Account #{}): ₹{}\".format(\n",
    "        self.__account_holder_name, self.__account_number,\n",
    "        self.__account_balance))"
   ]
  },
  {
   "cell_type": "code",
   "execution_count": 13,
   "metadata": {},
   "outputs": [],
   "source": [
    "account = BankAccount(account_number=\"123456789\",\n",
    "                      account_holder_name=\"Bincy Benny\",\n",
    "                      initial_balance=5000.0)"
   ]
  },
  {
   "cell_type": "code",
   "execution_count": 14,
   "metadata": {},
   "outputs": [
    {
     "name": "stdout",
     "output_type": "stream",
     "text": [
      "Account balance for Bincy Benny (Account #123456789): ₹5000.0\n"
     ]
    }
   ],
   "source": [
    "account.display_balance()"
   ]
  },
  {
   "cell_type": "code",
   "execution_count": 15,
   "metadata": {},
   "outputs": [
    {
     "name": "stdout",
     "output_type": "stream",
     "text": [
      "Deposited ₹500.0. New balance: ₹5500.0\n"
     ]
    }
   ],
   "source": [
    "account.deposit(500.0)"
   ]
  },
  {
   "cell_type": "code",
   "execution_count": 16,
   "metadata": {},
   "outputs": [
    {
     "name": "stdout",
     "output_type": "stream",
     "text": [
      "Withdrew ₹200.0. New balance: ₹5300.0\n"
     ]
    }
   ],
   "source": [
    "account.withdraw(200.0)"
   ]
  },
  {
   "cell_type": "code",
   "execution_count": 17,
   "metadata": {},
   "outputs": [
    {
     "name": "stdout",
     "output_type": "stream",
     "text": [
      "Invalid withdrawal amount or insufficient balance.\n"
     ]
    }
   ],
   "source": [
    "account.withdraw(10000.0)"
   ]
  },
  {
   "cell_type": "code",
   "execution_count": 18,
   "metadata": {},
   "outputs": [
    {
     "name": "stdout",
     "output_type": "stream",
     "text": [
      "Account balance for Bincy Benny (Account #123456789): ₹5300.0\n"
     ]
    }
   ],
   "source": [
    "account.display_balance()"
   ]
  },
  {
   "cell_type": "markdown",
   "metadata": {},
   "source": [
    "Create a class Animal with attributes name and sound. Add an __init__ \n",
    "method to initialize these attributes and a method make_sound that \n",
    "prints the sound the animal makes.\n",
    " • Create instances of Animal representing a dog and a cat, and call \n",
    "make_soundon each"
   ]
  },
  {
   "cell_type": "code",
   "execution_count": 22,
   "metadata": {},
   "outputs": [],
   "source": [
    "\n",
    "        return None"
   ]
  }
 ],
 "metadata": {
  "kernelspec": {
   "display_name": "Python 3",
   "language": "python",
   "name": "python3"
  },
  "language_info": {
   "codemirror_mode": {
    "name": "ipython",
    "version": 3
   },
   "file_extension": ".py",
   "mimetype": "text/x-python",
   "name": "python",
   "nbconvert_exporter": "python",
   "pygments_lexer": "ipython3",
   "version": "3.11.0"
  }
 },
 "nbformat": 4,
 "nbformat_minor": 2
}
